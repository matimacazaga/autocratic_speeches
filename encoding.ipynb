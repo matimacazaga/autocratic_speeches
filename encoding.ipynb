{
 "cells": [
  {
   "cell_type": "code",
   "execution_count": 1,
   "metadata": {},
   "outputs": [],
   "source": [
    "import pandas as pd"
   ]
  },
  {
   "cell_type": "code",
   "execution_count": 92,
   "metadata": {},
   "outputs": [
    {
     "data": {
      "text/html": [
       "<div>\n",
       "<style scoped>\n",
       "    .dataframe tbody tr th:only-of-type {\n",
       "        vertical-align: middle;\n",
       "    }\n",
       "\n",
       "    .dataframe tbody tr th {\n",
       "        vertical-align: top;\n",
       "    }\n",
       "\n",
       "    .dataframe thead th {\n",
       "        text-align: right;\n",
       "    }\n",
       "</style>\n",
       "<table border=\"1\" class=\"dataframe\">\n",
       "  <thead>\n",
       "    <tr style=\"text-align: right;\">\n",
       "      <th></th>\n",
       "      <th>Year</th>\n",
       "      <th>Name</th>\n",
       "      <th>doc_id</th>\n",
       "      <th>Text</th>\n",
       "    </tr>\n",
       "  </thead>\n",
       "  <tbody>\n",
       "    <tr>\n",
       "      <th>0</th>\n",
       "      <td>1931</td>\n",
       "      <td>Francisco Franco</td>\n",
       "      <td>1931_Francisco Franco_0</td>\n",
       "      <td>Zaragoza,              14 de junio de 1931. M...</td>\n",
       "    </tr>\n",
       "    <tr>\n",
       "      <th>1</th>\n",
       "      <td>1936</td>\n",
       "      <td>Francisco Franco</td>\n",
       "      <td>1936_Francisco Franco_0</td>\n",
       "      <td>Año              1936. Ponéis              en...</td>\n",
       "    </tr>\n",
       "    <tr>\n",
       "      <th>2</th>\n",
       "      <td>1936</td>\n",
       "      <td>Francisco Franco</td>\n",
       "      <td>1936_Francisco Franco_1</td>\n",
       "      <td>Comandante              General de Canarias. ...</td>\n",
       "    </tr>\n",
       "    <tr>\n",
       "      <th>3</th>\n",
       "      <td>1936</td>\n",
       "      <td>Francisco Franco</td>\n",
       "      <td>1936_Francisco Franco_2</td>\n",
       "      <td>25 de agosto de 1936. Perdido el carácter de ...</td>\n",
       "    </tr>\n",
       "    <tr>\n",
       "      <th>4</th>\n",
       "      <td>1936</td>\n",
       "      <td>Francisco Franco</td>\n",
       "      <td>1936_Francisco Franco_3</td>\n",
       "      <td>Burgos, 1              de octubre de 1936. Nu...</td>\n",
       "    </tr>\n",
       "  </tbody>\n",
       "</table>\n",
       "</div>"
      ],
      "text/plain": [
       "   Year              Name                   doc_id  \\\n",
       "0  1931  Francisco Franco  1931_Francisco Franco_0   \n",
       "1  1936  Francisco Franco  1936_Francisco Franco_0   \n",
       "2  1936  Francisco Franco  1936_Francisco Franco_1   \n",
       "3  1936  Francisco Franco  1936_Francisco Franco_2   \n",
       "4  1936  Francisco Franco  1936_Francisco Franco_3   \n",
       "\n",
       "                                                Text  \n",
       "0   Zaragoza,              14 de junio de 1931. M...  \n",
       "1   Año              1936. Ponéis              en...  \n",
       "2   Comandante              General de Canarias. ...  \n",
       "3   25 de agosto de 1936. Perdido el carácter de ...  \n",
       "4   Burgos, 1              de octubre de 1936. Nu...  "
      ]
     },
     "execution_count": 92,
     "metadata": {},
     "output_type": "execute_result"
    }
   ],
   "source": [
    "df = pd.read_csv('./data/df.csv')\n",
    "df.head()"
   ]
  },
  {
   "cell_type": "code",
   "execution_count": 93,
   "metadata": {},
   "outputs": [
    {
     "data": {
      "text/html": [
       "<div>\n",
       "<style scoped>\n",
       "    .dataframe tbody tr th:only-of-type {\n",
       "        vertical-align: middle;\n",
       "    }\n",
       "\n",
       "    .dataframe tbody tr th {\n",
       "        vertical-align: top;\n",
       "    }\n",
       "\n",
       "    .dataframe thead th {\n",
       "        text-align: right;\n",
       "    }\n",
       "</style>\n",
       "<table border=\"1\" class=\"dataframe\">\n",
       "  <thead>\n",
       "    <tr style=\"text-align: right;\">\n",
       "      <th></th>\n",
       "      <th>Year</th>\n",
       "      <th>Name</th>\n",
       "      <th>doc_id</th>\n",
       "      <th>Text</th>\n",
       "    </tr>\n",
       "  </thead>\n",
       "  <tbody>\n",
       "    <tr>\n",
       "      <th>491</th>\n",
       "      <td>1973</td>\n",
       "      <td>Juan Domingo Peron</td>\n",
       "      <td>1973_Juan Domingo Peron_9</td>\n",
       "      <td></td>\n",
       "    </tr>\n",
       "    <tr>\n",
       "      <th>492</th>\n",
       "      <td>1974</td>\n",
       "      <td>Juan Domingo Peron</td>\n",
       "      <td>1974_Juan Domingo Peron_0</td>\n",
       "      <td>Compañeros: Hace hoy veinte años que en este m...</td>\n",
       "    </tr>\n",
       "    <tr>\n",
       "      <th>493</th>\n",
       "      <td>1974</td>\n",
       "      <td>Juan Domingo Peron</td>\n",
       "      <td>1974_Juan Domingo Peron_1</td>\n",
       "      <td>Señores senadores y señores diputados: Antes d...</td>\n",
       "    </tr>\n",
       "    <tr>\n",
       "      <th>494</th>\n",
       "      <td>1974</td>\n",
       "      <td>Juan Domingo Peron</td>\n",
       "      <td>1974_Juan Domingo Peron_2</td>\n",
       "      <td>Compañeras y compañeros: quiero manifestarles ...</td>\n",
       "    </tr>\n",
       "    <tr>\n",
       "      <th>495</th>\n",
       "      <td>1974</td>\n",
       "      <td>Juan Domingo Peron</td>\n",
       "      <td>1974_Juan Domingo Peron_3</td>\n",
       "      <td>Señor Canciller de Bolivia, General D. Alberto...</td>\n",
       "    </tr>\n",
       "  </tbody>\n",
       "</table>\n",
       "</div>"
      ],
      "text/plain": [
       "     Year                Name                     doc_id  \\\n",
       "491  1973  Juan Domingo Peron  1973_Juan Domingo Peron_9   \n",
       "492  1974  Juan Domingo Peron  1974_Juan Domingo Peron_0   \n",
       "493  1974  Juan Domingo Peron  1974_Juan Domingo Peron_1   \n",
       "494  1974  Juan Domingo Peron  1974_Juan Domingo Peron_2   \n",
       "495  1974  Juan Domingo Peron  1974_Juan Domingo Peron_3   \n",
       "\n",
       "                                                  Text  \n",
       "491                                     \n",
       "\n",
       "\n",
       "\n",
       "\n",
       "\n",
       "\n",
       "\n",
       "\n",
       "\n",
       "\n",
       "\n",
       "\n",
       "\n",
       "  \n",
       "492  Compañeros: Hace hoy veinte años que en este m...  \n",
       "493  Señores senadores y señores diputados: Antes d...  \n",
       "494  Compañeras y compañeros: quiero manifestarles ...  \n",
       "495  Señor Canciller de Bolivia, General D. Alberto...  "
      ]
     },
     "execution_count": 93,
     "metadata": {},
     "output_type": "execute_result"
    }
   ],
   "source": [
    "df.tail()"
   ]
  },
  {
   "cell_type": "code",
   "execution_count": 94,
   "metadata": {},
   "outputs": [],
   "source": [
    "df.loc[:, 'Text'] = df.loc[:, 'Text'].apply(unidecode.unidecode)"
   ]
  },
  {
   "cell_type": "code",
   "execution_count": 97,
   "metadata": {},
   "outputs": [
    {
     "data": {
      "text/plain": [
       "' Zaragoza,              14 de junio de 1931. Motivo del cierre de la Academia. Caballeros cadetes:  Quisiera celebrar este acto de              despedida con la solemnidad de los anos anteriores, en que, a los              acordes del Himno Nacional, sacasemos por ultima vez nuestra              bandera y, como ayer, besarais sus ricos tafetanes, recorriendo              vuestros cuerpos el escalofrio de la emocion y nublandose              vuestros ojos al conjuro de las glorias por ella encarnadas; pero              la falta de bandera oficial limita nuestra fiesta a estos sentidos              momentos en que, al haceros objeto de nuestra despedida, recibais              en leccion de moral militar mis ultimos consejos. Tres anos lleva de vida la              Academia General Militar, y su esplendoroso sol se acerca ya al              ocaso. Anos que vivimos a vuestro lado educandoos e instruyendoos              y pretendiendo forjar para Espana el mas competente y virtuoso              plantel de oficiales que nacion alguna lograra poseer. Intimas satisfacciones recogimos              en nuestro espinoso camino cuando los mas capacitados tecnicos              extranjeros prodigaron calurosos elogios a nuestra obra,              estudiando y aplaudiendo nuestros sistemas y senalandolos como              modelo entre las instituciones modernas de la ensenanza militar.              Satisfacciones intimas que a Espana ofrecemos, orgullosos de              nuestra obra y convencidos de sus mas optimos frutos. Estudiamos nuestro Ejercito, sus              vicios y sus virtudes, y corrigiendo aquellos, hemos de              acrecentado estas al compas que marcabamos una verdadera              evolucion en procedimientos y sistemas. Asi vimos sucumbir los              libros de texto, rigidos y arcaicos, ante el empuje de un              profesorado moderno, consciente de su mision y renido con tan              bastardos intereses. Las novatadas, antiguo vicio de              Academias y cuarteles, se desconocieron ante vuestra comprension              y noble hidalguia. Las enfermedades venereas, que              un dia aprisionaron, rebajandolas, a nuestras juventudes, no              hicieron su aparicion en este cuerpo, por la accion vigilante y              adecuada profilaxis. La instruccion fisica y los              diarios ejercicios en el campo os prepararon militarmente, dando a              vuestros cuerpos aspecto de atletas y desterrando de los cuadros              militares al oficial sietemesino y enteco. Los examenes de              ingreso, automaticos y anonimos, antes campo abonado de intrigas              e influencias, no fueron bastardeados por la recomendacion y el              favor, y hoy podeis enorgulleceros de vuestro progreso, sin que              os sonrojen los viejos y caducos procedimientos anteriores. Revolucion profunda en la ensenanza              militar, que habia de llevar como forzado corolario la intriga y              la pasion de quienes encontraban granjeria en el mantenimiento              de tan perniciosos sistemas. Nuestro Decalogo del Cadete              recogio de nuestras sabias Ordenanzas lo mas puro y florido,              para ofreceroslo como credo indispensable que prendiese vuestra              vida, y en estos tiempos en que la caballerosidad y la hidalguia              sufren constantes eclipses, hemos procurado afianzar nuestra fe de              caballeros manteniendo entre vosotros una elevada espiritualidad. Por ello, en estos momentos,              cuando las reformas y nuevas orientaciones militares cierran las              puertas de este centro, hemos de elevarnos y sobreponernos,              acallando el interno dolor por la desaparicion de nuestra obra,              pensando con altruismo: se deshace la maquina, pero la obra              queda; nuestra obra sois vosotros, los 720 oficiales que manana              vais a estar en contacto con el soldado, los que los vais a cuidar              y a dirigir, los que, constituyendo un gran nucleo del Ejercito              profesional, habeis de ser, sin duda, paladines de la lealtad, la              caballerosidad, la disciplina, el cumplimiento del deber y el espiritu              de sacrificio por la Patria, cualidades todas inherentes al              verdadero soldado, entre las que destaca como puesto principal la              disciplina, esa excelsa virtud indispensable a la vida de los ejercitos              y que estais obligados a cuidar como la mas preciada de vuestras              prendas. !Disciplina!..., nunca buen              definida y comprendida. !Disciplina!..., que no encierra merito              cuando la condicion del mando nos es grata y llevadera. !Disciplina!...,              que reviste su verdadero valor cuando el pensamiento aconseja lo              contrario de lo que se nos manda, cuando el corazon pugna por              levantarse en intima rebeldia, o cuando la arbitrariedad o el              error van unidos a la accion del mando. Esta es la disciplina que              os inculcamos, esta es la disciplina que practicamos. Este es el              ejemplo que os ofrecemos. Elevar siempre los pensamientos              hacia la Patria y a ella sacrificarle todo, que si cabe opcion y              libre albedrio al sencillo ciudadano, no la tienen quienes              reciben el sagrado deposito de las armas de la nacion, y a su              servicio han de sacrificar todos sus actos. Yo deseo que este companerismo              nacido en estos primeros tiempos de la vida militar, pasados              juntos, perdure al correr de los anos, y que nuestro amor a las              armas de adopcion tenga siempre por norte el bien de la Patria y              la consideracion y el mutuo afecto entre los companeros del Ejercito.              Que si en la guerra habeis de necesitaros, es indispensable que              en la paz hayais aprendido a comprenderos y estimaros. Companerismo              que lleva en si el socorro al camarada en desgracia, la alegria              por su progreso, el aplauso al que destaca y la energia tambien              con el descarriado o el perdido, pues vuestros generosos              sentimientos han de tener como valladar el alto concepto del              honor, y de este modo evitareis que los que un dia y otro              delinquieron abusando de la benevolencia, que es complicidad de              sus companeros, manana, encumbrados por un azar, puedan ser en              el Ejercito ejemplo pernicioso de inmoralidad e injusticia. Concepto del honor que no es              exclusivo de un Regimiento, Arma o Cuerpo; que es patrimonio del              Ejercito y se sujeta a las reglas tradicionales de la              caballerosidad y la hidalguia, pecando gravemente quien crea              velar por el buen nombre de su Cuerpo arrojando a otro lo que en              el suyo no sirvio. Achaque este que, por lo              frecuente, no debo silenciar, ya que no nos queda el manana para              aconsejaros. Achaque este que, por lo              frecuente, no debo silenciar, ya que no nos queda el manana para              aconsejaros. No              puedo deciros, como antes, que aqui dejais vuestro solar, pues              hoy desaparece; pero si puedo aseguraros que, repartidos por Espana,              lo llevais en vuestros corazones, y que en vuestra accion futura              ponemos nuestras esperanzas e ilusiones; que cuando al correr de              los anos blanqueen vuestras sienes y vuestra competencia              profesional os haga maestros, habreis de apreciar lo grande y              elevado de nuestra situacion: entonces, vuestro recuerdo y sereno              juicio ha de ser nuestra mas preciada recompensa. No              puedo deciros, como antes, que aqui dejais vuestro solar, pues              hoy desaparece; pero si puedo aseguraros que, repartidos por Espana,              lo llevais en vuestros corazones, y que en vuestra accion futura              ponemos nuestras esperanzas e ilusiones; que cuando al correr de              los anos blanqueen vuestras sienes y vuestra competencia              profesional os haga maestros, habreis de apreciar lo grande y              elevado de nuestra situacion: entonces, vuestro recuerdo y sereno              juicio ha de ser nuestra mas preciada recompensa. Sintamos hoy al despediros la              satisfaccion del deber cumplido y unamos nuestros sentimientos y              anhelos por la grandeza de la Patria gritando juntos:  !Viva Espana!.'"
      ]
     },
     "execution_count": 97,
     "metadata": {},
     "output_type": "execute_result"
    }
   ],
   "source": [
    "df.loc[0,'Text']"
   ]
  },
  {
   "cell_type": "code",
   "execution_count": 98,
   "metadata": {},
   "outputs": [],
   "source": [
    "df.to_csv('./data/df_unidecode.csv')"
   ]
  },
  {
   "cell_type": "code",
   "execution_count": 4,
   "metadata": {},
   "outputs": [],
   "source": [
    "df_original = pd.read_csv('./data/df.csv')"
   ]
  },
  {
   "cell_type": "code",
   "execution_count": 7,
   "metadata": {},
   "outputs": [
    {
     "data": {
      "text/plain": [
       "'Señor Canciller de Bolivia, General D. Alberto Guzmán Soriano; Señor Canciller del Brasil, Embalador D. Antonio Azeredo Da Silveira; Señor Canciller del Paraguay, Doctor D. Raúl Sapena Pastor, Señor Canciller del Uruguay, Doctor D. Juan Carlos Blanco; Señoras y Señores: Deseo dar, en primer lugar y como es costumbre tradicional, la bienvenida a los Señores Cancilleres a este país que también es de ustedes. No puedo llamarles \"huéspedes\" del pueblo argentino porque dentro de nuestra gran familia americana, en cualquier lugar de América en que estemos, debemos considerarnos como en la propia casa. Es, Señores Cancilleres, teniendo eso en nuestras mentes que debemos trabajar para el común beneficio regional. Así lo siento y así lo digo. Esta VI Reunión de Cancilleres de los Países de la Cuenca del Plata que hoy se inaugura tiene una tarea muy importante que cumplir. Las inmensas riquezas naturales de esta región deben y pueden explotarse intensamente para beneficio de los pueblos que la habitan. Si lo hacemos en forma racional, ello nos permitirá convertirnos en las naciones ricas del futuro, a lo que justamente aspiramos para bien de nuestros pueblos. En un mundo donde la solidaridad no es ya más un compromiso sino una imperiosa necesidad, el contar con ese verdadero emporio de riquezas es una bendición de Dios que asegura la participación de nuestros países en las grandes soluciones que deberá- tomar la humanidad en el porvenir. La región que comprende la Cuenca del Plata es el corazón de América. Tiene, como dijimos, grandes riquezas naturales y una población aproximada a los sesenta millones de habitantes, que al finalizar el siglo se habrán transformado en más de cien millones. Población ésta que ha surgido del feliz encuentro de hijos de españoles y portugueses con los autóctonos habitantes de esta significativa zona del continente americano. \\x0cPero si es una región con inconmensurables riquezas es también una región de grandes contrastes, donde hay lugares que tienen al-tos índices de mortalidad, donde hay sitios en que la asistencia médica es casi inexistente y donde se necesita luchar sin descanso para combatir el analfabetismo. Por otra parte, también en la Cuenca del Plata están situados los dos más grandes polos de desarrollo de la América Latina. Al lado de espacios económicos vacíos, hay conglomerados humanos que son de los más grandes del mundo. Los centros urbanos del Gran Buenos Aires y de San Pablo, que ahora se acercan a los 16 millones de habitantes llegarán en el año 2000 a cerca de 32 millones, es decir, se habrán prácticamente duplicado. Conseguir el desarrollo armónico de la región, teniendo en cuenta los intereses de los cinco países a que pertenece el territorio de la Cuenca, conseguir que esas larguísimas fronteras vacías se dinamicen y se pueblen con habitantes que vivan en paz y seguridad, debe ser, en mi concepto, el propósito y el objetivo del programa a cumplir. Y esto constituye el desafío más grande que se haya hecho en nuestra época a la capacidad y a la imaginación creadora del hombre. Para enfrentar este desafío necesitamos, no sólo los más modernos conocimlento9 técnicos, el conocimiento acabado de la tecnología de nuestros días, sino también una especial aptitud moral y una especial actitud espiritual que nos permita ver los problemas y buscar las soluciones con una gran comprensión para nuestros mutuos anhelos y aspiraciones, y con gran perspectiva histórica. Estimo que el camino recorrido en estos siete años de institucionalización del programa de desarrollo de la Cuenca puede considerarse como positivo. Posiblemente, hayan sido también los años más difíciles en que la tarea versó sobre el inventario de problemas por resolver que venían de antes y no de coincidencias sobre tareas futuras. \\x0cQuiero hacer una reflexión sobre lo que considero debe ser el contexto en que debieran desarrollarse las relaciones internacionales en la Cuenca del Plata. Hasta nuestros días la forma más clásica de las relaciones internacionales ha sido la bilateral, la que contrapone los intereses de un Estado con los de otro Estado, de un gobierno con los de otro gobierno. No creo que la suma de esas relaciones bilaterales entre nuestros cinco países pueda ser el marco adecuado en que deban desarrollarse las relaciones económicas, sociales y culturales del área. Esas relaciones políticas, económicas y culturales deben coordinarse en función de los intereses de los cinco países, en su conjunto y no como el resultado de los acuerdos bilaterales de los países que componen la Cuenca del Plata. Aún hoy en día existe la preocupación de lo que podemos ganar o perder en nuestro quehacer económico diario. Es lógico y natural que así sea. Pero en un programa de desarrollo multinacional no debe interesarnos lo inmediato sino cuál va a ser la rentabilidad de nuestras inversiones en un plan a mediano o largo plazo. Si con ello contribuimos a que la región se desarrolle en forma gradual y armónica como se pretende en el Tratado dé la Cuenca, a que se eleve la capacidad adquisitiva de otros sectores de la población, o que no se produzcan tensiones sociales que tienen un fuerte impacto en la economía, habremos contribuido eficazmente a consolidar la posición de todos los países de la Cuenca. Por eso el desarrollo de esta región exige que todos los países actúen con un sentido de grandeza. Siempre he dicho que los pueblos que tienen que desempeñar un papel por sus riquezas naturales o sus recursos humanos tienen una especial obligación de actuar con ese sentido de grandeza. Y a todos nos corresponde también una tarea fundamental en ayudar a encauzar, dirigir y armonizar posibles dificultades que se presenten en esta gran familia de países hermanos. \\x0cSé también que, principalmente, e programa de desarrollo de la Cuenca es un programa de integración física, que consiste en construir caminos, puentes, utilizar los ríos, construir represas, mejorar y facilitar todos los medios de comunicación. Pero creo que en nuestros días, eso ya no es suficiente. He dicho y repetido varias veces que el año 2000 nos encontrará unidos o sometidos. Es ésta una realidad que se impone al mundo americano y nosotros debemos actuar conforme a ella con la decisión y prontitud que la celeridad del proceso requiere. No debemos olvidar y sí tener en cuenta que para los países americanos en desarrollo estos años de fin del siglo van a ser de fundamental importancia. Es un hecho indiscutible el que en las distintas regiones del mundo las naciones se aglutinen y se unan no para hacer la guerra en el sentido clásico sino para defenderse y defender a sus pueblos de los peligros inminentes de una superpoblación y de una superindustrialización. Se están consumiendo aceleradamente nuestros recursos naturales no renovables, se está contaminando el planeta, algunos países enfrentan el problema de la superpoblación y otros, como nosotros, la falta de mano de obra para impulsar su desarrollo. Y ese consumo indiscriminado o extinción de nuestros recursos naturales no lo hacen los países americanos sino otras naciones que los utilizan en propio beneficio. De allí la necesidad de unirnos para defenderlos y para que su aprovechamiento redunde en beneficio de sus legítimos propietarios y de la región que los circunda. Necesitamos integrarnos, necesitamos participar de nuestros problemas, de nuestras necesidades, de nuestras aspiraciones culturales y sociales. Con esto quiero decir que la integración de la que hablo no se agota en el simple intercambio o compraventa de bienes de consumo. La integración económica es un aspecto muy importante, pero no es, en absoluto, toda la integración. Lo que debemos hacer es estudiar los procedimientos, analizar los métodos, las distintas formas en que podemos avanzar en el proceso de la integración s9cial, cultural, laboral, técnica y \\x0cpolítica de nuestro continente. Debemos poner énfasis en esos aspectos no-económicos de la integración. Sé que los Señores Cancilleres conocen perfectamente estos problemas, y que en una y otra medida comparten estas ¡deas. Me he permitido hacer referencia a la integración porque creo que allí está el porvenir de América. Es mi principal anhelo que nuestros países comiencen cuanto antes una tarea efectiva en ese sentido. Debiéramos preguntarnos por qué se han dejado de hacer en la Cuenca del Plata diversas cosas de beneficio mutuo y tratar de imprimir al proceso un ritmo mucho más dinámico y efectivo. Para ello creo que es muy importante que se analicen las instituciones y la forma en que pueden ser perfeccionadas para cumplir los fines que nuestros pueblos se han propuesto. Para analizar y perfeccionar esas instituciones mi gobierno y mi país están abiertos a todas las sugerencias, a todos los proyectos, a todas las formas posibles que se propongan para ir haciendo crecer el programa de desarrollo de la Cuenca. Además del aspecto institucional, creo que podemos y debemos impulsar el programa si ponemos énfasis en aquellos aspectos no conflictivos, en aquellos proyectos en que existe un verdadero \"interés Común\". Muchas veces nos empeñamos y nos quedamos años discutiendo los problemas que nos separan, en vez de avanzar sobre aquellos objetivos que nos unen. Es natural y lógico que los países defiendan decididamente lo que creen ser sus derechos. Pero eso no debe impedir que se siga trabajando en otras cuestiones que no sean conflictivas, con amplio espíritu de colaboración fraternal y de grandeza que debe caracterizar al hombre americano, y que pongamos en esta gesta por nuestra liberación de todo sojuzgamiento, las energías que el apoyo de nuestros pueblos nos proporcionan para satisfacer sus ansias de mejoramiento, justicia y libertad. \\x0cSeñores: En esta VI Reunión de Cancilleres de los Países de la Cuenca del Plata se deberá responder afirmativamente al juicio de la historia. No dudo que la buena voluntad que ha privado en las reuniones anteriores y el espíritu de colaboración que ahora nos une hará fácil el recorrer juntos el camino que hemos elegido para obtener los resultados positivos que todos anhelamos. Señores Cancilleres: Lo repito, esta es vuestra casa; no solamente este recinto o la ciudad de Buenos Aires que os recibe con entusiasmo sino toda la Argentina. Así es como mi pueblo lo siente y para mí es un placer y un honor transmitir ese sentimiento. \\x0c'"
      ]
     },
     "execution_count": 7,
     "metadata": {},
     "output_type": "execute_result"
    }
   ],
   "source": [
    "df_original.loc[495, 'Text']"
   ]
  },
  {
   "cell_type": "code",
   "execution_count": 8,
   "metadata": {},
   "outputs": [
    {
     "data": {
      "text/plain": [
       "'Senor Canciller de Bolivia, General D. Alberto Guzman Soriano; Senor Canciller del Brasil, Embalador D. Antonio Azeredo Da Silveira; Senor Canciller del Paraguay, Doctor D. Raul Sapena Pastor, Senor Canciller del Uruguay, Doctor D. Juan Carlos Blanco; Senoras y Senores: Deseo dar, en primer lugar y como es costumbre tradicional, la bienvenida a los Senores Cancilleres a este pais que tambien es de ustedes. No puedo llamarles \"huespedes\" del pueblo argentino porque dentro de nuestra gran familia americana, en cualquier lugar de America en que estemos, debemos considerarnos como en la propia casa. Es, Senores Cancilleres, teniendo eso en nuestras mentes que debemos trabajar para el comun beneficio regional. Asi lo siento y asi lo digo. Esta VI Reunion de Cancilleres de los Paises de la Cuenca del Plata que hoy se inaugura tiene una tarea muy importante que cumplir. Las inmensas riquezas naturales de esta region deben y pueden explotarse intensamente para beneficio de los pueblos que la habitan. Si lo hacemos en forma racional, ello nos permitira convertirnos en las naciones ricas del futuro, a lo que justamente aspiramos para bien de nuestros pueblos. En un mundo donde la solidaridad no es ya mas un compromiso sino una imperiosa necesidad, el contar con ese verdadero emporio de riquezas es una bendicion de Dios que asegura la participacion de nuestros paises en las grandes soluciones que debera- tomar la humanidad en el porvenir. La region que comprende la Cuenca del Plata es el corazon de America. Tiene, como dijimos, grandes riquezas naturales y una poblacion aproximada a los sesenta millones de habitantes, que al finalizar el siglo se habran transformado en mas de cien millones. Poblacion esta que ha surgido del feliz encuentro de hijos de espanoles y portugueses con los autoctonos habitantes de esta significativa zona del continente americano. \\x0cPero si es una region con inconmensurables riquezas es tambien una region de grandes contrastes, donde hay lugares que tienen al-tos indices de mortalidad, donde hay sitios en que la asistencia medica es casi inexistente y donde se necesita luchar sin descanso para combatir el analfabetismo. Por otra parte, tambien en la Cuenca del Plata estan situados los dos mas grandes polos de desarrollo de la America Latina. Al lado de espacios economicos vacios, hay conglomerados humanos que son de los mas grandes del mundo. Los centros urbanos del Gran Buenos Aires y de San Pablo, que ahora se acercan a los 16 millones de habitantes llegaran en el ano 2000 a cerca de 32 millones, es decir, se habran practicamente duplicado. Conseguir el desarrollo armonico de la region, teniendo en cuenta los intereses de los cinco paises a que pertenece el territorio de la Cuenca, conseguir que esas larguisimas fronteras vacias se dinamicen y se pueblen con habitantes que vivan en paz y seguridad, debe ser, en mi concepto, el proposito y el objetivo del programa a cumplir. Y esto constituye el desafio mas grande que se haya hecho en nuestra epoca a la capacidad y a la imaginacion creadora del hombre. Para enfrentar este desafio necesitamos, no solo los mas modernos conocimlento9 tecnicos, el conocimiento acabado de la tecnologia de nuestros dias, sino tambien una especial aptitud moral y una especial actitud espiritual que nos permita ver los problemas y buscar las soluciones con una gran comprension para nuestros mutuos anhelos y aspiraciones, y con gran perspectiva historica. Estimo que el camino recorrido en estos siete anos de institucionalizacion del programa de desarrollo de la Cuenca puede considerarse como positivo. Posiblemente, hayan sido tambien los anos mas dificiles en que la tarea verso sobre el inventario de problemas por resolver que venian de antes y no de coincidencias sobre tareas futuras. \\x0cQuiero hacer una reflexion sobre lo que considero debe ser el contexto en que debieran desarrollarse las relaciones internacionales en la Cuenca del Plata. Hasta nuestros dias la forma mas clasica de las relaciones internacionales ha sido la bilateral, la que contrapone los intereses de un Estado con los de otro Estado, de un gobierno con los de otro gobierno. No creo que la suma de esas relaciones bilaterales entre nuestros cinco paises pueda ser el marco adecuado en que deban desarrollarse las relaciones economicas, sociales y culturales del area. Esas relaciones politicas, economicas y culturales deben coordinarse en funcion de los intereses de los cinco paises, en su conjunto y no como el resultado de los acuerdos bilaterales de los paises que componen la Cuenca del Plata. Aun hoy en dia existe la preocupacion de lo que podemos ganar o perder en nuestro quehacer economico diario. Es logico y natural que asi sea. Pero en un programa de desarrollo multinacional no debe interesarnos lo inmediato sino cual va a ser la rentabilidad de nuestras inversiones en un plan a mediano o largo plazo. Si con ello contribuimos a que la region se desarrolle en forma gradual y armonica como se pretende en el Tratado de la Cuenca, a que se eleve la capacidad adquisitiva de otros sectores de la poblacion, o que no se produzcan tensiones sociales que tienen un fuerte impacto en la economia, habremos contribuido eficazmente a consolidar la posicion de todos los paises de la Cuenca. Por eso el desarrollo de esta region exige que todos los paises actuen con un sentido de grandeza. Siempre he dicho que los pueblos que tienen que desempenar un papel por sus riquezas naturales o sus recursos humanos tienen una especial obligacion de actuar con ese sentido de grandeza. Y a todos nos corresponde tambien una tarea fundamental en ayudar a encauzar, dirigir y armonizar posibles dificultades que se presenten en esta gran familia de paises hermanos. \\x0cSe tambien que, principalmente, e programa de desarrollo de la Cuenca es un programa de integracion fisica, que consiste en construir caminos, puentes, utilizar los rios, construir represas, mejorar y facilitar todos los medios de comunicacion. Pero creo que en nuestros dias, eso ya no es suficiente. He dicho y repetido varias veces que el ano 2000 nos encontrara unidos o sometidos. Es esta una realidad que se impone al mundo americano y nosotros debemos actuar conforme a ella con la decision y prontitud que la celeridad del proceso requiere. No debemos olvidar y si tener en cuenta que para los paises americanos en desarrollo estos anos de fin del siglo van a ser de fundamental importancia. Es un hecho indiscutible el que en las distintas regiones del mundo las naciones se aglutinen y se unan no para hacer la guerra en el sentido clasico sino para defenderse y defender a sus pueblos de los peligros inminentes de una superpoblacion y de una superindustrializacion. Se estan consumiendo aceleradamente nuestros recursos naturales no renovables, se esta contaminando el planeta, algunos paises enfrentan el problema de la superpoblacion y otros, como nosotros, la falta de mano de obra para impulsar su desarrollo. Y ese consumo indiscriminado o extincion de nuestros recursos naturales no lo hacen los paises americanos sino otras naciones que los utilizan en propio beneficio. De alli la necesidad de unirnos para defenderlos y para que su aprovechamiento redunde en beneficio de sus legitimos propietarios y de la region que los circunda. Necesitamos integrarnos, necesitamos participar de nuestros problemas, de nuestras necesidades, de nuestras aspiraciones culturales y sociales. Con esto quiero decir que la integracion de la que hablo no se agota en el simple intercambio o compraventa de bienes de consumo. La integracion economica es un aspecto muy importante, pero no es, en absoluto, toda la integracion. Lo que debemos hacer es estudiar los procedimientos, analizar los metodos, las distintas formas en que podemos avanzar en el proceso de la integracion s9cial, cultural, laboral, tecnica y \\x0cpolitica de nuestro continente. Debemos poner enfasis en esos aspectos no-economicos de la integracion. Se que los Senores Cancilleres conocen perfectamente estos problemas, y que en una y otra medida comparten estas !deas. Me he permitido hacer referencia a la integracion porque creo que alli esta el porvenir de America. Es mi principal anhelo que nuestros paises comiencen cuanto antes una tarea efectiva en ese sentido. Debieramos preguntarnos por que se han dejado de hacer en la Cuenca del Plata diversas cosas de beneficio mutuo y tratar de imprimir al proceso un ritmo mucho mas dinamico y efectivo. Para ello creo que es muy importante que se analicen las instituciones y la forma en que pueden ser perfeccionadas para cumplir los fines que nuestros pueblos se han propuesto. Para analizar y perfeccionar esas instituciones mi gobierno y mi pais estan abiertos a todas las sugerencias, a todos los proyectos, a todas las formas posibles que se propongan para ir haciendo crecer el programa de desarrollo de la Cuenca. Ademas del aspecto institucional, creo que podemos y debemos impulsar el programa si ponemos enfasis en aquellos aspectos no conflictivos, en aquellos proyectos en que existe un verdadero \"interes Comun\". Muchas veces nos empenamos y nos quedamos anos discutiendo los problemas que nos separan, en vez de avanzar sobre aquellos objetivos que nos unen. Es natural y logico que los paises defiendan decididamente lo que creen ser sus derechos. Pero eso no debe impedir que se siga trabajando en otras cuestiones que no sean conflictivas, con amplio espiritu de colaboracion fraternal y de grandeza que debe caracterizar al hombre americano, y que pongamos en esta gesta por nuestra liberacion de todo sojuzgamiento, las energias que el apoyo de nuestros pueblos nos proporcionan para satisfacer sus ansias de mejoramiento, justicia y libertad. \\x0cSenores: En esta VI Reunion de Cancilleres de los Paises de la Cuenca del Plata se debera responder afirmativamente al juicio de la historia. No dudo que la buena voluntad que ha privado en las reuniones anteriores y el espiritu de colaboracion que ahora nos une hara facil el recorrer juntos el camino que hemos elegido para obtener los resultados positivos que todos anhelamos. Senores Cancilleres: Lo repito, esta es vuestra casa; no solamente este recinto o la ciudad de Buenos Aires que os recibe con entusiasmo sino toda la Argentina. Asi es como mi pueblo lo siente y para mi es un placer y un honor transmitir ese sentimiento. \\x0c'"
      ]
     },
     "execution_count": 8,
     "metadata": {},
     "output_type": "execute_result"
    }
   ],
   "source": [
    "df = pd.read_csv('./data/df_unidecode.csv')\n",
    "df.loc[495, 'Text']"
   ]
  },
  {
   "cell_type": "code",
   "execution_count": 13,
   "metadata": {},
   "outputs": [],
   "source": [
    "df.loc[:, 'Text'] = df.loc[:, 'Text'].str.replace(r'[\\x00-\\x08\\x0b\\x0c\\x0e-\\x1f\\x7f-\\xff]', '')"
   ]
  },
  {
   "cell_type": "code",
   "execution_count": 25,
   "metadata": {},
   "outputs": [],
   "source": [
    "df.loc[df.loc[:, 'Name']=='Francisco Franco','Text'] = df.loc[df.loc[:, 'Name']=='Francisco Franco','Text'].apply(lambda x: '.'.join(x.split('.')[1:]))"
   ]
  },
  {
   "cell_type": "code",
   "execution_count": 26,
   "metadata": {},
   "outputs": [
    {
     "data": {
      "text/html": [
       "<div>\n",
       "<style scoped>\n",
       "    .dataframe tbody tr th:only-of-type {\n",
       "        vertical-align: middle;\n",
       "    }\n",
       "\n",
       "    .dataframe tbody tr th {\n",
       "        vertical-align: top;\n",
       "    }\n",
       "\n",
       "    .dataframe thead th {\n",
       "        text-align: right;\n",
       "    }\n",
       "</style>\n",
       "<table border=\"1\" class=\"dataframe\">\n",
       "  <thead>\n",
       "    <tr style=\"text-align: right;\">\n",
       "      <th></th>\n",
       "      <th>Unnamed: 0</th>\n",
       "      <th>Year</th>\n",
       "      <th>Name</th>\n",
       "      <th>doc_id</th>\n",
       "      <th>Text</th>\n",
       "    </tr>\n",
       "  </thead>\n",
       "  <tbody>\n",
       "    <tr>\n",
       "      <th>0</th>\n",
       "      <td>0</td>\n",
       "      <td>1931</td>\n",
       "      <td>Francisco Franco</td>\n",
       "      <td>1931_Francisco Franco_0</td>\n",
       "      <td>Motivo del cierre de la Academia. Caballeros ...</td>\n",
       "    </tr>\n",
       "    <tr>\n",
       "      <th>1</th>\n",
       "      <td>1</td>\n",
       "      <td>1936</td>\n",
       "      <td>Francisco Franco</td>\n",
       "      <td>1936_Francisco Franco_0</td>\n",
       "      <td>Poneis              en mis manos a Espana. Mi...</td>\n",
       "    </tr>\n",
       "    <tr>\n",
       "      <th>2</th>\n",
       "      <td>2</td>\n",
       "      <td>1936</td>\n",
       "      <td>Francisco Franco</td>\n",
       "      <td>1936_Francisco Franco_1</td>\n",
       "      <td>Santa              Cruz de Tenerife, a las ci...</td>\n",
       "    </tr>\n",
       "    <tr>\n",
       "      <th>3</th>\n",
       "      <td>3</td>\n",
       "      <td>1936</td>\n",
       "      <td>Francisco Franco</td>\n",
       "      <td>1936_Francisco Franco_2</td>\n",
       "      <td>Perdido el caracter de nuestro pueblo, con ve...</td>\n",
       "    </tr>\n",
       "    <tr>\n",
       "      <th>4</th>\n",
       "      <td>4</td>\n",
       "      <td>1936</td>\n",
       "      <td>Francisco Franco</td>\n",
       "      <td>1936_Francisco Franco_3</td>\n",
       "      <td>Nuestra              ejecutoria. El          ...</td>\n",
       "    </tr>\n",
       "  </tbody>\n",
       "</table>\n",
       "</div>"
      ],
      "text/plain": [
       "   Unnamed: 0  Year              Name                   doc_id  \\\n",
       "0           0  1931  Francisco Franco  1931_Francisco Franco_0   \n",
       "1           1  1936  Francisco Franco  1936_Francisco Franco_0   \n",
       "2           2  1936  Francisco Franco  1936_Francisco Franco_1   \n",
       "3           3  1936  Francisco Franco  1936_Francisco Franco_2   \n",
       "4           4  1936  Francisco Franco  1936_Francisco Franco_3   \n",
       "\n",
       "                                                Text  \n",
       "0   Motivo del cierre de la Academia. Caballeros ...  \n",
       "1   Poneis              en mis manos a Espana. Mi...  \n",
       "2   Santa              Cruz de Tenerife, a las ci...  \n",
       "3   Perdido el caracter de nuestro pueblo, con ve...  \n",
       "4   Nuestra              ejecutoria. El          ...  "
      ]
     },
     "execution_count": 26,
     "metadata": {},
     "output_type": "execute_result"
    }
   ],
   "source": [
    "df.head()"
   ]
  },
  {
   "cell_type": "code",
   "execution_count": 27,
   "metadata": {},
   "outputs": [],
   "source": [
    "df.to_csv('df_unidecode.csv')"
   ]
  }
 ],
 "metadata": {
  "kernelspec": {
   "display_name": "Python 3",
   "language": "python",
   "name": "python3"
  },
  "language_info": {
   "codemirror_mode": {
    "name": "ipython",
    "version": 3
   },
   "file_extension": ".py",
   "mimetype": "text/x-python",
   "name": "python",
   "nbconvert_exporter": "python",
   "pygments_lexer": "ipython3",
   "version": "3.8.5"
  }
 },
 "nbformat": 4,
 "nbformat_minor": 4
}
