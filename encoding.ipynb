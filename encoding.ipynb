{
 "cells": [
  {
   "cell_type": "code",
   "execution_count": 1,
   "metadata": {},
   "outputs": [],
   "source": [
    "import pandas as pd"
   ]
  },
  {
   "cell_type": "code",
   "execution_count": 92,
   "metadata": {},
   "outputs": [
    {
     "data": {
      "text/html": [
       "<div>\n",
       "<style scoped>\n",
       "    .dataframe tbody tr th:only-of-type {\n",
       "        vertical-align: middle;\n",
       "    }\n",
       "\n",
       "    .dataframe tbody tr th {\n",
       "        vertical-align: top;\n",
       "    }\n",
       "\n",
       "    .dataframe thead th {\n",
       "        text-align: right;\n",
       "    }\n",
       "</style>\n",
       "<table border=\"1\" class=\"dataframe\">\n",
       "  <thead>\n",
       "    <tr style=\"text-align: right;\">\n",
       "      <th></th>\n",
       "      <th>Year</th>\n",
       "      <th>Name</th>\n",
       "      <th>doc_id</th>\n",
       "      <th>Text</th>\n",
       "    </tr>\n",
       "  </thead>\n",
       "  <tbody>\n",
       "    <tr>\n",
       "      <th>0</th>\n",
       "      <td>1931</td>\n",
       "      <td>Francisco Franco</td>\n",
       "      <td>1931_Francisco Franco_0</td>\n",
       "      <td>Zaragoza,              14 de junio de 1931. M...</td>\n",
       "    </tr>\n",
       "    <tr>\n",
       "      <th>1</th>\n",
       "      <td>1936</td>\n",
       "      <td>Francisco Franco</td>\n",
       "      <td>1936_Francisco Franco_0</td>\n",
       "      <td>Año              1936. Ponéis              en...</td>\n",
       "    </tr>\n",
       "    <tr>\n",
       "      <th>2</th>\n",
       "      <td>1936</td>\n",
       "      <td>Francisco Franco</td>\n",
       "      <td>1936_Francisco Franco_1</td>\n",
       "      <td>Comandante              General de Canarias. ...</td>\n",
       "    </tr>\n",
       "    <tr>\n",
       "      <th>3</th>\n",
       "      <td>1936</td>\n",
       "      <td>Francisco Franco</td>\n",
       "      <td>1936_Francisco Franco_2</td>\n",
       "      <td>25 de agosto de 1936. Perdido el carácter de ...</td>\n",
       "    </tr>\n",
       "    <tr>\n",
       "      <th>4</th>\n",
       "      <td>1936</td>\n",
       "      <td>Francisco Franco</td>\n",
       "      <td>1936_Francisco Franco_3</td>\n",
       "      <td>Burgos, 1              de octubre de 1936. Nu...</td>\n",
       "    </tr>\n",
       "  </tbody>\n",
       "</table>\n",
       "</div>"
      ],
      "text/plain": [
       "   Year              Name                   doc_id  \\\n",
       "0  1931  Francisco Franco  1931_Francisco Franco_0   \n",
       "1  1936  Francisco Franco  1936_Francisco Franco_0   \n",
       "2  1936  Francisco Franco  1936_Francisco Franco_1   \n",
       "3  1936  Francisco Franco  1936_Francisco Franco_2   \n",
       "4  1936  Francisco Franco  1936_Francisco Franco_3   \n",
       "\n",
       "                                                Text  \n",
       "0   Zaragoza,              14 de junio de 1931. M...  \n",
       "1   Año              1936. Ponéis              en...  \n",
       "2   Comandante              General de Canarias. ...  \n",
       "3   25 de agosto de 1936. Perdido el carácter de ...  \n",
       "4   Burgos, 1              de octubre de 1936. Nu...  "
      ]
     },
     "execution_count": 92,
     "metadata": {},
     "output_type": "execute_result"
    }
   ],
   "source": [
    "df = pd.read_csv('./data/df.csv')\n",
    "df.head()"
   ]
  },
  {
   "cell_type": "code",
   "execution_count": 93,
   "metadata": {},
   "outputs": [
    {
     "data": {
      "text/html": [
       "<div>\n",
       "<style scoped>\n",
       "    .dataframe tbody tr th:only-of-type {\n",
       "        vertical-align: middle;\n",
       "    }\n",
       "\n",
       "    .dataframe tbody tr th {\n",
       "        vertical-align: top;\n",
       "    }\n",
       "\n",
       "    .dataframe thead th {\n",
       "        text-align: right;\n",
       "    }\n",
       "</style>\n",
       "<table border=\"1\" class=\"dataframe\">\n",
       "  <thead>\n",
       "    <tr style=\"text-align: right;\">\n",
       "      <th></th>\n",
       "      <th>Year</th>\n",
       "      <th>Name</th>\n",
       "      <th>doc_id</th>\n",
       "      <th>Text</th>\n",
       "    </tr>\n",
       "  </thead>\n",
       "  <tbody>\n",
       "    <tr>\n",
       "      <th>491</th>\n",
       "      <td>1973</td>\n",
       "      <td>Juan Domingo Peron</td>\n",
       "      <td>1973_Juan Domingo Peron_9</td>\n",
       "      <td></td>\n",
       "    </tr>\n",
       "    <tr>\n",
       "      <th>492</th>\n",
       "      <td>1974</td>\n",
       "      <td>Juan Domingo Peron</td>\n",
       "      <td>1974_Juan Domingo Peron_0</td>\n",
       "      <td>Compañeros: Hace hoy veinte años que en este m...</td>\n",
       "    </tr>\n",
       "    <tr>\n",
       "      <th>493</th>\n",
       "      <td>1974</td>\n",
       "      <td>Juan Domingo Peron</td>\n",
       "      <td>1974_Juan Domingo Peron_1</td>\n",
       "      <td>Señores senadores y señores diputados: Antes d...</td>\n",
       "    </tr>\n",
       "    <tr>\n",
       "      <th>494</th>\n",
       "      <td>1974</td>\n",
       "      <td>Juan Domingo Peron</td>\n",
       "      <td>1974_Juan Domingo Peron_2</td>\n",
       "      <td>Compañeras y compañeros: quiero manifestarles ...</td>\n",
       "    </tr>\n",
       "    <tr>\n",
       "      <th>495</th>\n",
       "      <td>1974</td>\n",
       "      <td>Juan Domingo Peron</td>\n",
       "      <td>1974_Juan Domingo Peron_3</td>\n",
       "      <td>Señor Canciller de Bolivia, General D. Alberto...</td>\n",
       "    </tr>\n",
       "  </tbody>\n",
       "</table>\n",
       "</div>"
      ],
      "text/plain": [
       "     Year                Name                     doc_id  \\\n",
       "491  1973  Juan Domingo Peron  1973_Juan Domingo Peron_9   \n",
       "492  1974  Juan Domingo Peron  1974_Juan Domingo Peron_0   \n",
       "493  1974  Juan Domingo Peron  1974_Juan Domingo Peron_1   \n",
       "494  1974  Juan Domingo Peron  1974_Juan Domingo Peron_2   \n",
       "495  1974  Juan Domingo Peron  1974_Juan Domingo Peron_3   \n",
       "\n",
       "                                                  Text  \n",
       "491                                     \n",
       "\n",
       "\n",
       "\n",
       "\n",
       "\n",
       "\n",
       "\n",
       "\n",
       "\n",
       "\n",
       "\n",
       "\n",
       "\n",
       "  \n",
       "492  Compañeros: Hace hoy veinte años que en este m...  \n",
       "493  Señores senadores y señores diputados: Antes d...  \n",
       "494  Compañeras y compañeros: quiero manifestarles ...  \n",
       "495  Señor Canciller de Bolivia, General D. Alberto...  "
      ]
     },
     "execution_count": 93,
     "metadata": {},
     "output_type": "execute_result"
    }
   ],
   "source": [
    "df.tail()"
   ]
  },
  {
   "cell_type": "code",
   "execution_count": 94,
   "metadata": {},
   "outputs": [],
   "source": [
    "df.loc[:, 'Text'] = df.loc[:, 'Text'].apply(unidecode.unidecode)"
   ]
  },
  {
   "cell_type": "code",
   "execution_count": 97,
   "metadata": {},
   "outputs": [
    {
     "data": {
      "text/plain": [
       "' Zaragoza,              14 de junio de 1931. Motivo del cierre de la Academia. Caballeros cadetes:  Quisiera celebrar este acto de              despedida con la solemnidad de los anos anteriores, en que, a los              acordes del Himno Nacional, sacasemos por ultima vez nuestra              bandera y, como ayer, besarais sus ricos tafetanes, recorriendo              vuestros cuerpos el escalofrio de la emocion y nublandose              vuestros ojos al conjuro de las glorias por ella encarnadas; pero              la falta de bandera oficial limita nuestra fiesta a estos sentidos              momentos en que, al haceros objeto de nuestra despedida, recibais              en leccion de moral militar mis ultimos consejos. Tres anos lleva de vida la              Academia General Militar, y su esplendoroso sol se acerca ya al              ocaso. Anos que vivimos a vuestro lado educandoos e instruyendoos              y pretendiendo forjar para Espana el mas competente y virtuoso              plantel de oficiales que nacion alguna lograra poseer. Intimas satisfacciones recogimos              en nuestro espinoso camino cuando los mas capacitados tecnicos              extranjeros prodigaron calurosos elogios a nuestra obra,              estudiando y aplaudiendo nuestros sistemas y senalandolos como              modelo entre las instituciones modernas de la ensenanza militar.              Satisfacciones intimas que a Espana ofrecemos, orgullosos de              nuestra obra y convencidos de sus mas optimos frutos. Estudiamos nuestro Ejercito, sus              vicios y sus virtudes, y corrigiendo aquellos, hemos de              acrecentado estas al compas que marcabamos una verdadera              evolucion en procedimientos y sistemas. Asi vimos sucumbir los              libros de texto, rigidos y arcaicos, ante el empuje de un              profesorado moderno, consciente de su mision y renido con tan              bastardos intereses. Las novatadas, antiguo vicio de              Academias y cuarteles, se desconocieron ante vuestra comprension              y noble hidalguia. Las enfermedades venereas, que              un dia aprisionaron, rebajandolas, a nuestras juventudes, no              hicieron su aparicion en este cuerpo, por la accion vigilante y              adecuada profilaxis. La instruccion fisica y los              diarios ejercicios en el campo os prepararon militarmente, dando a              vuestros cuerpos aspecto de atletas y desterrando de los cuadros              militares al oficial sietemesino y enteco. Los examenes de              ingreso, automaticos y anonimos, antes campo abonado de intrigas              e influencias, no fueron bastardeados por la recomendacion y el              favor, y hoy podeis enorgulleceros de vuestro progreso, sin que              os sonrojen los viejos y caducos procedimientos anteriores. Revolucion profunda en la ensenanza              militar, que habia de llevar como forzado corolario la intriga y              la pasion de quienes encontraban granjeria en el mantenimiento              de tan perniciosos sistemas. Nuestro Decalogo del Cadete              recogio de nuestras sabias Ordenanzas lo mas puro y florido,              para ofreceroslo como credo indispensable que prendiese vuestra              vida, y en estos tiempos en que la caballerosidad y la hidalguia              sufren constantes eclipses, hemos procurado afianzar nuestra fe de              caballeros manteniendo entre vosotros una elevada espiritualidad. Por ello, en estos momentos,              cuando las reformas y nuevas orientaciones militares cierran las              puertas de este centro, hemos de elevarnos y sobreponernos,              acallando el interno dolor por la desaparicion de nuestra obra,              pensando con altruismo: se deshace la maquina, pero la obra              queda; nuestra obra sois vosotros, los 720 oficiales que manana              vais a estar en contacto con el soldado, los que los vais a cuidar              y a dirigir, los que, constituyendo un gran nucleo del Ejercito              profesional, habeis de ser, sin duda, paladines de la lealtad, la              caballerosidad, la disciplina, el cumplimiento del deber y el espiritu              de sacrificio por la Patria, cualidades todas inherentes al              verdadero soldado, entre las que destaca como puesto principal la              disciplina, esa excelsa virtud indispensable a la vida de los ejercitos              y que estais obligados a cuidar como la mas preciada de vuestras              prendas. !Disciplina!..., nunca buen              definida y comprendida. !Disciplina!..., que no encierra merito              cuando la condicion del mando nos es grata y llevadera. !Disciplina!...,              que reviste su verdadero valor cuando el pensamiento aconseja lo              contrario de lo que se nos manda, cuando el corazon pugna por              levantarse en intima rebeldia, o cuando la arbitrariedad o el              error van unidos a la accion del mando. Esta es la disciplina que              os inculcamos, esta es la disciplina que practicamos. Este es el              ejemplo que os ofrecemos. Elevar siempre los pensamientos              hacia la Patria y a ella sacrificarle todo, que si cabe opcion y              libre albedrio al sencillo ciudadano, no la tienen quienes              reciben el sagrado deposito de las armas de la nacion, y a su              servicio han de sacrificar todos sus actos. Yo deseo que este companerismo              nacido en estos primeros tiempos de la vida militar, pasados              juntos, perdure al correr de los anos, y que nuestro amor a las              armas de adopcion tenga siempre por norte el bien de la Patria y              la consideracion y el mutuo afecto entre los companeros del Ejercito.              Que si en la guerra habeis de necesitaros, es indispensable que              en la paz hayais aprendido a comprenderos y estimaros. Companerismo              que lleva en si el socorro al camarada en desgracia, la alegria              por su progreso, el aplauso al que destaca y la energia tambien              con el descarriado o el perdido, pues vuestros generosos              sentimientos han de tener como valladar el alto concepto del              honor, y de este modo evitareis que los que un dia y otro              delinquieron abusando de la benevolencia, que es complicidad de              sus companeros, manana, encumbrados por un azar, puedan ser en              el Ejercito ejemplo pernicioso de inmoralidad e injusticia. Concepto del honor que no es              exclusivo de un Regimiento, Arma o Cuerpo; que es patrimonio del              Ejercito y se sujeta a las reglas tradicionales de la              caballerosidad y la hidalguia, pecando gravemente quien crea              velar por el buen nombre de su Cuerpo arrojando a otro lo que en              el suyo no sirvio. Achaque este que, por lo              frecuente, no debo silenciar, ya que no nos queda el manana para              aconsejaros. Achaque este que, por lo              frecuente, no debo silenciar, ya que no nos queda el manana para              aconsejaros. No              puedo deciros, como antes, que aqui dejais vuestro solar, pues              hoy desaparece; pero si puedo aseguraros que, repartidos por Espana,              lo llevais en vuestros corazones, y que en vuestra accion futura              ponemos nuestras esperanzas e ilusiones; que cuando al correr de              los anos blanqueen vuestras sienes y vuestra competencia              profesional os haga maestros, habreis de apreciar lo grande y              elevado de nuestra situacion: entonces, vuestro recuerdo y sereno              juicio ha de ser nuestra mas preciada recompensa. No              puedo deciros, como antes, que aqui dejais vuestro solar, pues              hoy desaparece; pero si puedo aseguraros que, repartidos por Espana,              lo llevais en vuestros corazones, y que en vuestra accion futura              ponemos nuestras esperanzas e ilusiones; que cuando al correr de              los anos blanqueen vuestras sienes y vuestra competencia              profesional os haga maestros, habreis de apreciar lo grande y              elevado de nuestra situacion: entonces, vuestro recuerdo y sereno              juicio ha de ser nuestra mas preciada recompensa. Sintamos hoy al despediros la              satisfaccion del deber cumplido y unamos nuestros sentimientos y              anhelos por la grandeza de la Patria gritando juntos:  !Viva Espana!.'"
      ]
     },
     "execution_count": 97,
     "metadata": {},
     "output_type": "execute_result"
    }
   ],
   "source": [
    "df.loc[0,'Text']"
   ]
  },
  {
   "cell_type": "code",
   "execution_count": 98,
   "metadata": {},
   "outputs": [],
   "source": [
    "df.to_csv('./data/df_unidecode.csv')"
   ]
  },
  {
   "cell_type": "code",
   "execution_count": null,
   "metadata": {},
   "outputs": [],
   "source": []
  }
 ],
 "metadata": {
  "kernelspec": {
   "display_name": "Python 3",
   "language": "python",
   "name": "python3"
  },
  "language_info": {
   "codemirror_mode": {
    "name": "ipython",
    "version": 3
   },
   "file_extension": ".py",
   "mimetype": "text/x-python",
   "name": "python",
   "nbconvert_exporter": "python",
   "pygments_lexer": "ipython3",
   "version": "3.8.5"
  }
 },
 "nbformat": 4,
 "nbformat_minor": 4
}
